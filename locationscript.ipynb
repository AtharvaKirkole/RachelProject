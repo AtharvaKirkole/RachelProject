{
 "cells": [
  {
   "cell_type": "code",
   "execution_count": 72,
   "id": "558f58d6",
   "metadata": {},
   "outputs": [
    {
     "name": "stdout",
     "output_type": "stream",
     "text": [
      "airportdtw.jpeg <exif._image.Image object at 0x000001E53C2E9D60>\n"
     ]
    }
   ],
   "source": [
    "from exif import Image\n",
    "from geopy.geocoders import Nominatim\n",
    "img_path = 'airportdtw.jpeg'\n",
    "with open(img_path, 'rb') as src:\n",
    "    img = Image(src)\n",
    "    print (src.name, img)"
   ]
  },
  {
   "cell_type": "code",
   "execution_count": 80,
   "id": "be7637ea",
   "metadata": {},
   "outputs": [
    {
     "name": "stdout",
     "output_type": "stream",
     "text": [
      "Image airportdtw.jpeg:  has the EXIF 0232\n"
     ]
    }
   ],
   "source": [
    "if img.has_exif:\n",
    "    info = f\" has the EXIF {img.exif_version}\"\n",
    "else:\n",
    "    info = \"does not contain any EXIF information\"\n",
    "print(f\"Image {src.name}: {info}\")"
   ]
  },
  {
   "cell_type": "code",
   "execution_count": 81,
   "id": "b924665c",
   "metadata": {},
   "outputs": [
    {
     "data": {
      "text/plain": [
       "['make',\n",
       " 'model',\n",
       " 'orientation',\n",
       " 'x_resolution',\n",
       " 'y_resolution',\n",
       " 'resolution_unit',\n",
       " 'software',\n",
       " 'datetime',\n",
       " 'y_and_c_positioning',\n",
       " '_exif_ifd_pointer',\n",
       " '_gps_ifd_pointer',\n",
       " 'exposure_time',\n",
       " 'f_number',\n",
       " 'exposure_program',\n",
       " 'photographic_sensitivity',\n",
       " 'exif_version',\n",
       " 'datetime_original',\n",
       " 'datetime_digitized',\n",
       " 'offset_time',\n",
       " 'offset_time_original',\n",
       " 'offset_time_digitized',\n",
       " 'components_configuration',\n",
       " 'shutter_speed_value',\n",
       " 'aperture_value',\n",
       " 'brightness_value',\n",
       " 'exposure_bias_value',\n",
       " 'metering_mode',\n",
       " 'flash',\n",
       " 'focal_length',\n",
       " 'subject_area',\n",
       " 'maker_note',\n",
       " 'subsec_time_original',\n",
       " 'subsec_time_digitized',\n",
       " 'flashpix_version',\n",
       " 'color_space',\n",
       " 'pixel_x_dimension',\n",
       " 'pixel_y_dimension',\n",
       " 'sensing_method',\n",
       " 'scene_type',\n",
       " 'exposure_mode',\n",
       " 'white_balance',\n",
       " 'focal_length_in_35mm_film',\n",
       " 'scene_capture_type',\n",
       " 'lens_specification',\n",
       " 'lens_make',\n",
       " 'lens_model',\n",
       " 'gps_latitude_ref',\n",
       " 'gps_latitude',\n",
       " 'gps_longitude_ref',\n",
       " 'gps_longitude',\n",
       " 'gps_altitude_ref',\n",
       " 'gps_altitude',\n",
       " 'gps_speed_ref',\n",
       " 'gps_speed',\n",
       " 'gps_img_direction_ref',\n",
       " 'gps_img_direction',\n",
       " 'gps_dest_bearing_ref',\n",
       " 'gps_dest_bearing',\n",
       " 'gps_horizontal_positioning_error']"
      ]
     },
     "execution_count": 81,
     "metadata": {},
     "output_type": "execute_result"
    }
   ],
   "source": [
    "with open(img_path, \"rb\") as src:\n",
    "    img = Image(src)\n",
    "img.list_all()"
   ]
  },
  {
   "cell_type": "code",
   "execution_count": 82,
   "id": "c3c9f849",
   "metadata": {},
   "outputs": [
    {
     "data": {
      "text/plain": [
       "(83.0, 21.0, 13.62)"
      ]
     },
     "execution_count": 82,
     "metadata": {},
     "output_type": "execute_result"
    }
   ],
   "source": [
    "img.gps_longitude"
   ]
  },
  {
   "cell_type": "code",
   "execution_count": 84,
   "id": "fd0f575a",
   "metadata": {},
   "outputs": [
    {
     "name": "stdout",
     "output_type": "stream",
     "text": [
      "42.214111111111116\n",
      "-83.35378333333333\n"
     ]
    }
   ],
   "source": [
    "def dms_to_dd(gps_coords, gps_coords_ref):\n",
    "    d, m, s =  gps_coords\n",
    "    dd = d + m / 60 + s / 3600\n",
    "    if gps_coords_ref.upper() in ('S', 'W'):\n",
    "        return -dd\n",
    "    elif gps_coords_ref.upper() in ('N', 'E'):\n",
    "        return dd\n",
    "    else:\n",
    "        raise RuntimeError('Incorrect gps_coords_ref {}'.format(gps_coords_ref))\n",
    "\n",
    "with open('airportdtw.jpeg', 'rb') as image_file:\n",
    "    my_image = Image(image_file)\n",
    "\n",
    "    # gps_latitude = (32.0, 37.0, 37.15)\n",
    "    # gps_longitude = (116.0, 30.0, 37.0)\n",
    "    # \n",
    "    # gps_latitude_ref = 'N'\n",
    "    # gps_longitude_ref = 'W'\n",
    "    \n",
    "    print(dms_to_dd(my_image.gps_latitude, my_image.gps_latitude_ref))\n",
    "    print(dms_to_dd(my_image.gps_longitude, my_image.gps_longitude_ref))"
   ]
  },
  {
   "cell_type": "code",
   "execution_count": 85,
   "id": "e045e3cb",
   "metadata": {},
   "outputs": [
    {
     "data": {
      "text/plain": [
       "{'place_id': 206855820,\n",
       " 'licence': 'Data © OpenStreetMap contributors, ODbL 1.0. https://osm.org/copyright',\n",
       " 'osm_type': 'way',\n",
       " 'osm_id': 445089105,\n",
       " 'lat': '42.73219505',\n",
       " 'lon': '-84.5010231443983',\n",
       " 'display_name': 'The Oaks, 136, Reniger Court, East Lansing, Ingham County, Michigan, 48823, United States',\n",
       " 'address': {'building': 'The Oaks',\n",
       "  'house_number': '136',\n",
       "  'road': 'Reniger Court',\n",
       "  'town': 'East Lansing',\n",
       "  'county': 'Ingham County',\n",
       "  'state': 'Michigan',\n",
       "  'ISO3166-2-lvl4': 'US-MI',\n",
       "  'postcode': '48823',\n",
       "  'country': 'United States',\n",
       "  'country_code': 'us'},\n",
       " 'boundingbox': ['42.7320441', '42.732343', '-84.501892', '-84.5001539']}"
      ]
     },
     "execution_count": 85,
     "metadata": {},
     "output_type": "execute_result"
    }
   ],
   "source": [
    "# calling the nominatim tool\n",
    "geoLoc = Nominatim(user_agent=\"locfrompic\")\n",
    " \n",
    "# passing the coordinates\n",
    "locname = geoLoc.reverse((lat,long), language='en').raw\n",
    " \n",
    "# printing the address/location name\n",
    "locname"
   ]
  },
  {
   "cell_type": "code",
   "execution_count": 86,
   "id": "c209459a",
   "metadata": {},
   "outputs": [
    {
     "name": "stdout",
     "output_type": "stream",
     "text": [
      "42.732086111111116\n",
      "-84.50136666666667\n"
     ]
    },
    {
     "data": {
      "text/plain": [
       "{'place_id': 206855820,\n",
       " 'licence': 'Data © OpenStreetMap contributors, ODbL 1.0. https://osm.org/copyright',\n",
       " 'osm_type': 'way',\n",
       " 'osm_id': 445089105,\n",
       " 'lat': '42.73219505',\n",
       " 'lon': '-84.5010231443983',\n",
       " 'display_name': 'The Oaks, 136, Reniger Court, East Lansing, Ingham County, Michigan, 48823, United States',\n",
       " 'address': {'building': 'The Oaks',\n",
       "  'house_number': '136',\n",
       "  'road': 'Reniger Court',\n",
       "  'town': 'East Lansing',\n",
       "  'county': 'Ingham County',\n",
       "  'state': 'Michigan',\n",
       "  'ISO3166-2-lvl4': 'US-MI',\n",
       "  'postcode': '48823',\n",
       "  'country': 'United States',\n",
       "  'country_code': 'us'},\n",
       " 'boundingbox': ['42.7320441', '42.732343', '-84.501892', '-84.5001539']}"
      ]
     },
     "execution_count": 86,
     "metadata": {},
     "output_type": "execute_result"
    }
   ],
   "source": [
    "with open('ELcat.jpeg', 'rb') as image_file:\n",
    "    my_image = Image(image_file)\n",
    "    print(dms_to_dd(my_image.gps_latitude, my_image.gps_latitude_ref))\n",
    "    print(dms_to_dd(my_image.gps_longitude, my_image.gps_longitude_ref))\n",
    "lat = dms_to_dd(my_image.gps_latitude, my_image.gps_latitude_ref)\n",
    "long = dms_to_dd(my_image.gps_longitude, my_image.gps_longitude_ref)\n",
    "locname = geoLoc.reverse((lat,long), language='en').raw\n",
    " \n",
    "# printing the address/location name\n",
    "locname"
   ]
  },
  {
   "cell_type": "code",
   "execution_count": 88,
   "id": "c42c2bf7",
   "metadata": {},
   "outputs": [
    {
     "name": "stdout",
     "output_type": "stream",
     "text": [
      "42.214111111111116\n",
      "-83.35378333333333\n"
     ]
    },
    {
     "data": {
      "text/plain": [
       "{'place_id': 74769149,\n",
       " 'licence': 'Data © OpenStreetMap contributors, ODbL 1.0. https://osm.org/copyright',\n",
       " 'osm_type': 'node',\n",
       " 'osm_id': 6981790336,\n",
       " 'lat': '42.2141299',\n",
       " 'lon': '-83.3538614',\n",
       " 'display_name': 'Detroit Lunchbox, John D. Dingell Drive, Romulus, Wayne County, Michigan, 48174, United States',\n",
       " 'address': {'amenity': 'Detroit Lunchbox',\n",
       "  'road': 'John D. Dingell Drive',\n",
       "  'town': 'Romulus',\n",
       "  'county': 'Wayne County',\n",
       "  'state': 'Michigan',\n",
       "  'ISO3166-2-lvl4': 'US-MI',\n",
       "  'postcode': '48174',\n",
       "  'country': 'United States',\n",
       "  'country_code': 'us'},\n",
       " 'boundingbox': ['42.2140799', '42.2141799', '-83.3539114', '-83.3538114']}"
      ]
     },
     "execution_count": 88,
     "metadata": {},
     "output_type": "execute_result"
    }
   ],
   "source": [
    "with open('airportdtw.jpeg', 'rb') as image_file:\n",
    "    my_image = Image(image_file)\n",
    "    print(dms_to_dd(my_image.gps_latitude, my_image.gps_latitude_ref))\n",
    "    print(dms_to_dd(my_image.gps_longitude, my_image.gps_longitude_ref))\n",
    "lat = dms_to_dd(my_image.gps_latitude, my_image.gps_latitude_ref)\n",
    "long = dms_to_dd(my_image.gps_longitude, my_image.gps_longitude_ref)\n",
    "locname = geoLoc.reverse((lat,long), language='en').raw\n",
    " \n",
    "# printing the address/location name\n",
    "locname"
   ]
  },
  {
   "cell_type": "code",
   "execution_count": null,
   "id": "6132b5c7",
   "metadata": {},
   "outputs": [],
   "source": []
  }
 ],
 "metadata": {
  "kernelspec": {
   "display_name": "Python 3 (ipykernel)",
   "language": "python",
   "name": "python3"
  },
  "language_info": {
   "codemirror_mode": {
    "name": "ipython",
    "version": 3
   },
   "file_extension": ".py",
   "mimetype": "text/x-python",
   "name": "python",
   "nbconvert_exporter": "python",
   "pygments_lexer": "ipython3",
   "version": "3.9.12"
  }
 },
 "nbformat": 4,
 "nbformat_minor": 5
}
